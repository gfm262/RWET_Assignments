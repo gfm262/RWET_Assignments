{
 "cells": [
  {
   "cell_type": "markdown",
   "metadata": {},
   "source": [
    "## Space, the final Earthquake\n",
    "\n",
    "For this cut-up assingment, I combined the texts of a book which dates back to the 1700s, [The Philosophy of Earthquakes, Natural and Religious by William Stukeley](https://www.gutenberg.org/ebooks/63322), and the spoken intro to the original series of the television show [Star Trek.](https://en.wikipedia.org/wiki/Star_Trek:_The_Original_Series)\n",
    "\n",
    "The methodology for this was quite simple, though getting the code to output what I wanted took several hours. This was definitely an exercising in learning coding syntax and structure. To create the new composition, I had Python return each line until the last element, then added a random word from The Philosophy of Earthquakes, Natural and Religious at the end of each line. To do this, I created a random word list using <code>.choices(list1,k = #ofLines)</code>, so I had a word for each line, limiting the length of the word to be at least 5 characters to make it more interesting. Finally, I used the hidding line return notation '\\n' for the string to replace--as it's at the end of each line--to put the new random word from The Philosophy of Earthquakes in to complete the line.\n",
    "\n",
    "Here is the text of the Star Trek intro for comparison:\n",
    "\n",
    ">Space, the final frontier  \n",
    ">These are the voyages of the Starship Enterprise  \n",
    ">Its five year mission  \n",
    ">To explore strange new worlds  \n",
    ">To seek out new life  \n",
    ">And new civilizations  \n",
    ">To boldly go where no man has gone before  \n",
    "\n",
    "\n",
    "Enjoy!\n"
   ]
  },
  {
   "cell_type": "code",
   "execution_count": 1,
   "metadata": {},
   "outputs": [],
   "source": [
    "st_lines = [line.split() for line in open(\"star_trek.txt\")]\n",
    "eq_lines = [line.strip(\"\\n\") for line in open(\"The_Philosophy_of_Earthquakes_Natural_Religious.txt\")]"
   ]
  },
  {
   "cell_type": "code",
   "execution_count": 2,
   "metadata": {},
   "outputs": [
    {
     "name": "stdout",
     "output_type": "stream",
     "text": [
      "[['Space,', 'the', 'final', 'frontier'], ['These', 'are', 'the', 'voyages', 'of', 'the', 'Starship', 'Enterprise'], ['Its', 'five', 'year', 'mission'], ['To', 'explore', 'strange', 'new', 'worlds'], ['To', 'seek', 'out', 'new', 'life'], ['And', 'new', 'civilizations'], ['To', 'boldly', 'go', 'where', 'no', 'man', 'has', 'gone', 'before']]\n"
     ]
    }
   ],
   "source": [
    "print(st_lines)"
   ]
  },
  {
   "cell_type": "code",
   "execution_count": 3,
   "metadata": {},
   "outputs": [
    {
     "name": "stdout",
     "output_type": "stream",
     "text": [
      "[['Space,', 'the', 'final'], ['These', 'are', 'the', 'voyages', 'of', 'the', 'Starship'], ['Its', 'five', 'year'], ['To', 'explore', 'strange', 'new'], ['To', 'seek', 'out', 'new'], ['And', 'new'], ['To', 'boldly', 'go', 'where', 'no', 'man', 'has', 'gone']]\n"
     ]
    }
   ],
   "source": [
    "for subset in st_lines:\n",
    "    subset = subset.pop()\n",
    "\n",
    "print(st_lines)  # prints whole structure\n"
   ]
  },
  {
   "cell_type": "code",
   "execution_count": 4,
   "metadata": {},
   "outputs": [],
   "source": [
    "eq_words = [word for eq_lines in eq_lines for word in eq_lines.split()]"
   ]
  },
  {
   "cell_type": "code",
   "execution_count": 5,
   "metadata": {},
   "outputs": [
    {
     "data": {
      "text/plain": [
       "['When',\n",
       " 'so',\n",
       " 'great',\n",
       " 'and',\n",
       " 'unusual',\n",
       " 'a',\n",
       " '_phenomenon_,',\n",
       " 'as',\n",
       " 'an',\n",
       " 'earthquake,',\n",
       " 'and',\n",
       " 'that',\n",
       " 'repeated,',\n",
       " 'happens',\n",
       " 'among',\n",
       " 'us;',\n",
       " 'it',\n",
       " 'will',\n",
       " 'naturally',\n",
       " 'excite',\n",
       " 'a',\n",
       " 'serious',\n",
       " 'reflection',\n",
       " 'in',\n",
       " 'everyone',\n",
       " 'that',\n",
       " 'is',\n",
       " 'capable',\n",
       " 'of',\n",
       " 'thinking.',\n",
       " 'And',\n",
       " 'we',\n",
       " 'cannot',\n",
       " 'help',\n",
       " 'considering',\n",
       " 'it,',\n",
       " 'both',\n",
       " 'in',\n",
       " 'a',\n",
       " 'philosophical',\n",
       " 'and',\n",
       " 'a',\n",
       " 'religious',\n",
       " 'view.',\n",
       " 'Any',\n",
       " 'mind',\n",
       " 'will',\n",
       " 'take',\n",
       " 'the',\n",
       " 'alarm']"
      ]
     },
     "execution_count": 5,
     "metadata": {},
     "output_type": "execute_result"
    }
   ],
   "source": [
    "eq_words[:50]"
   ]
  },
  {
   "cell_type": "code",
   "execution_count": 6,
   "metadata": {},
   "outputs": [],
   "source": [
    "import random"
   ]
  },
  {
   "cell_type": "code",
   "execution_count": 7,
   "metadata": {},
   "outputs": [
    {
     "name": "stdout",
     "output_type": "stream",
     "text": [
      "7\n"
     ]
    }
   ],
   "source": [
    "number_st_lines = len(st_lines)\n",
    "print(number_st_lines)"
   ]
  },
  {
   "cell_type": "code",
   "execution_count": 8,
   "metadata": {},
   "outputs": [],
   "source": [
    "random_eq_words = random.choices([x for x in eq_words if len(x) >= 5],k = number_st_lines)"
   ]
  },
  {
   "cell_type": "code",
   "execution_count": 9,
   "metadata": {},
   "outputs": [
    {
     "data": {
      "text/plain": [
       "[\"quiver'd\",\n",
       " 'adjacent',\n",
       " 'advancing',\n",
       " 'superficies,',\n",
       " 'atmosphere',\n",
       " 'lightning',\n",
       " \"remov'd;\"]"
      ]
     },
     "execution_count": 9,
     "metadata": {},
     "output_type": "execute_result"
    }
   ],
   "source": [
    "random_eq_words"
   ]
  },
  {
   "cell_type": "code",
   "execution_count": 10,
   "metadata": {},
   "outputs": [
    {
     "name": "stdout",
     "output_type": "stream",
     "text": [
      "Space, the final quiver'd\n",
      "These are the voyages of the Starship adjacent\n",
      "Its five year advancing\n",
      "To explore strange new superficies,\n",
      "To seek out new atmosphere\n",
      "And new lightning\n",
      "To boldly go where no man has gone remov'd;\n"
     ]
    }
   ],
   "source": [
    "for subset, i in zip(st_lines,random_eq_words):\n",
    "    subset = \" \".join(subset)\n",
    "    print(subset, i)\n",
    "    "
   ]
  }
 ],
 "metadata": {
  "kernelspec": {
   "display_name": "Python 3",
   "language": "python",
   "name": "python3"
  },
  "language_info": {
   "codemirror_mode": {
    "name": "ipython",
    "version": 3
   },
   "file_extension": ".py",
   "mimetype": "text/x-python",
   "name": "python",
   "nbconvert_exporter": "python",
   "pygments_lexer": "ipython3",
   "version": "3.8.3"
  }
 },
 "nbformat": 4,
 "nbformat_minor": 4
}
